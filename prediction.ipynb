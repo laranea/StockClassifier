{
 "cells": [
  {
   "cell_type": "markdown",
   "metadata": {},
   "source": [
    "## Predictions"
   ]
  },
  {
   "cell_type": "markdown",
   "metadata": {},
   "source": [
    "Now we can generate predictions using the trained model. We'll first load the model and then specify stock symbols for prediction. The most recent data for the specified stock will be downloaded and fed foward through the trained network using a predictor class instance. The latter will reuse the code written earlier for loading datasets and will check model parameters to determine how much data (e.g., how many quarter's worth) need to be downloaded for a given model."
   ]
  },
  {
   "cell_type": "code",
   "execution_count": 1,
   "metadata": {},
   "outputs": [],
   "source": [
    "from model.classifier import StockClassifier\n",
    "from model.predictor import StockClassifierPredictor"
   ]
  },
  {
   "cell_type": "code",
   "execution_count": 2,
   "metadata": {},
   "outputs": [],
   "source": [
    "# Load model from disk\n",
    "import torch\n",
    "model = StockClassifier.from_file('data')\n",
    "device = torch.device(\"cuda\" if torch.cuda.is_available() else \"cpu\")"
   ]
  },
  {
   "cell_type": "code",
   "execution_count": 3,
   "metadata": {},
   "outputs": [
    {
     "name": "stdout",
     "output_type": "stream",
     "text": [
      "Last Train Date:     2020-03-10 10:30:15.416159\n",
      "Train Count:         1\n",
      "Prediction Interval: 90 days, 0:00:00\n",
      "Data Interval:       360 days, 0:00:00\n",
      "Trained Features: \n",
      "    Categorical: 5\n",
      "    Daily:       2\n",
      "    Quarterly:   6\n",
      "Dimensions: \n",
      "    Embedded:    10\n",
      "    Hidden:      500\n",
      "    Output:      1\n"
     ]
    }
   ],
   "source": [
    "print(model)"
   ]
  },
  {
   "cell_type": "code",
   "execution_count": 4,
   "metadata": {},
   "outputs": [
    {
     "name": "stdout",
     "output_type": "stream",
     "text": [
      "\u001b[34mimport\u001b[39;49;00m \u001b[04m\u001b[36mos\u001b[39;49;00m\n",
      "\u001b[34mimport\u001b[39;49;00m \u001b[04m\u001b[36mtorch\u001b[39;49;00m\n",
      "\u001b[34mimport\u001b[39;49;00m \u001b[04m\u001b[36mtorch.utils.data\u001b[39;49;00m\n",
      "\u001b[34mimport\u001b[39;49;00m \u001b[04m\u001b[36mnumpy\u001b[39;49;00m \u001b[34mas\u001b[39;49;00m \u001b[04m\u001b[36mnp\u001b[39;49;00m\n",
      "\n",
      "\u001b[34mfrom\u001b[39;49;00m \u001b[04m\u001b[36mdatetime\u001b[39;49;00m \u001b[34mimport\u001b[39;49;00m timedelta\n",
      "\u001b[34mfrom\u001b[39;49;00m \u001b[04m\u001b[36mscipy.special\u001b[39;49;00m \u001b[34mimport\u001b[39;49;00m expit\n",
      "\n",
      "\u001b[34mfrom\u001b[39;49;00m \u001b[04m\u001b[36mapi.stocks\u001b[39;49;00m \u001b[34mimport\u001b[39;49;00m Stock   \u001b[37m# Information about a particular stock\u001b[39;49;00m\n",
      "\u001b[34mfrom\u001b[39;49;00m \u001b[04m\u001b[36mapi.stocks\u001b[39;49;00m \u001b[34mimport\u001b[39;49;00m TIMEDELTA_QUARTER\n",
      "\u001b[34mfrom\u001b[39;49;00m \u001b[04m\u001b[36mapi.stocks\u001b[39;49;00m \u001b[34mimport\u001b[39;49;00m TIMEDELTA_MONTH\n",
      "\u001b[34mfrom\u001b[39;49;00m \u001b[04m\u001b[36mapi.stocks\u001b[39;49;00m \u001b[34mimport\u001b[39;49;00m TIMEDELTA_YEAR\n",
      "\n",
      "\u001b[34mfrom\u001b[39;49;00m \u001b[04m\u001b[36mmodel.dataset\u001b[39;49;00m          \u001b[34mimport\u001b[39;49;00m StockDataset\n",
      "\u001b[34mfrom\u001b[39;49;00m \u001b[04m\u001b[36mmodel.predictor_helper\u001b[39;49;00m \u001b[34mimport\u001b[39;49;00m get_stock_cat_features_func\n",
      "\u001b[34mfrom\u001b[39;49;00m \u001b[04m\u001b[36mmodel.predictor_helper\u001b[39;49;00m \u001b[34mimport\u001b[39;49;00m get_stock_daily_features_func\n",
      "\u001b[34mfrom\u001b[39;49;00m \u001b[04m\u001b[36mmodel.predictor_helper\u001b[39;49;00m \u001b[34mimport\u001b[39;49;00m get_stock_quarterly_features_func\n",
      "\n",
      "\u001b[34mclass\u001b[39;49;00m \u001b[04m\u001b[32mStockClassifierPredictor\u001b[39;49;00m():\n",
      "\n",
      "    \u001b[34mdef\u001b[39;49;00m \u001b[32m__init__\u001b[39;49;00m(\u001b[36mself\u001b[39;49;00m,model,device):\n",
      "        \u001b[33m\"\"\" \u001b[39;49;00m\n",
      "\u001b[33m        Args:\u001b[39;49;00m\n",
      "\u001b[33m            model: The PyTorch model that we wish to use to make predictions.\u001b[39;49;00m\n",
      "\u001b[33m            device: Where the model and data should be loaded (gpu or cpu).\u001b[39;49;00m\n",
      "\u001b[33m        \"\"\"\u001b[39;49;00m\n",
      "        \u001b[36mself\u001b[39;49;00m.model = model\n",
      "        \u001b[36mself\u001b[39;49;00m.device = device\n",
      "\n",
      "        \u001b[36mself\u001b[39;49;00m.get_stock_cat_features = get_stock_cat_features_func(\u001b[36mself\u001b[39;49;00m.model.data_interval,\u001b[36mNone\u001b[39;49;00m)\n",
      "        \u001b[36mself\u001b[39;49;00m.get_stock_daily_features = get_stock_daily_features_func(\u001b[36mself\u001b[39;49;00m.model.data_interval,\u001b[36mNone\u001b[39;49;00m)\n",
      "        \u001b[36mself\u001b[39;49;00m.get_stock_quarterly_features = get_stock_quarterly_features_func(\u001b[36mself\u001b[39;49;00m.model.data_interval,\u001b[36mNone\u001b[39;49;00m)\n",
      "        \n",
      "    \u001b[34mdef\u001b[39;49;00m \u001b[32mpredict\u001b[39;49;00m(\u001b[36mself\u001b[39;49;00m,stock_ticker):\n",
      "        \u001b[33m\"\"\" \u001b[39;49;00m\n",
      "\u001b[33m        Args:\u001b[39;49;00m\n",
      "\u001b[33m            stock_ticker: The stock ticker symbol for prediction\u001b[39;49;00m\n",
      "\u001b[33m\u001b[39;49;00m\n",
      "\u001b[33m        Returns:\u001b[39;49;00m\n",
      "\u001b[33m            Either a 1 or 0 indicating whether stock will outperform the market\u001b[39;49;00m\n",
      "\u001b[33m        \"\"\"\u001b[39;49;00m\n",
      "        \n",
      "        \u001b[36mself\u001b[39;49;00m.model.to(\u001b[36mself\u001b[39;49;00m.device)\n",
      "        \u001b[36mself\u001b[39;49;00m.model.eval()\n",
      "\n",
      "        dataset = StockDataset.from_data([stock_ticker],\n",
      "                                         p_interval=\u001b[36mself\u001b[39;49;00m.model.prediction_interval,\n",
      "                                         d_interval=\u001b[34m4\u001b[39;49;00m*\u001b[36mself\u001b[39;49;00m.model.data_interval,\n",
      "                                         offsets=[timedelta()],\n",
      "                                         c_features_func_gen=get_stock_cat_features_func,\n",
      "                                         d_features_func_gen=get_stock_daily_features_func,\n",
      "                                         q_features_func_gen=get_stock_quarterly_features_func,\n",
      "                                         label_func_gen=\u001b[36mNone\u001b[39;49;00m,\n",
      "                                         output=\u001b[36mFalse\u001b[39;49;00m)\n",
      "        \u001b[34mif\u001b[39;49;00m \u001b[36mlen\u001b[39;49;00m(dataset) == \u001b[34m0\u001b[39;49;00m:\n",
      "            \u001b[34mraise\u001b[39;49;00m \u001b[36mLookupError\u001b[39;49;00m\n",
      "\n",
      "        dataloader = torch.utils.data.DataLoader(dataset,\n",
      "                                                 batch_size=\u001b[36mlen\u001b[39;49;00m(dataset),\n",
      "                                                 shuffle=\u001b[36mFalse\u001b[39;49;00m,\n",
      "                                                 collate_fn=StockDataset.collate_data)\n",
      "        \u001b[34mfor\u001b[39;49;00m x, _ \u001b[35min\u001b[39;49;00m dataloader:\n",
      "            x = [tensor.to(\u001b[36mself\u001b[39;49;00m.device) \u001b[34mfor\u001b[39;49;00m tensor \u001b[35min\u001b[39;49;00m x]\n",
      "            y_pred = \u001b[36mself\u001b[39;49;00m.model(x).detach().numpy()\n",
      "\n",
      "        \u001b[34mreturn\u001b[39;49;00m \u001b[36mint\u001b[39;49;00m(\u001b[36mround\u001b[39;49;00m(expit(y_pred[\u001b[34m0\u001b[39;49;00m])))\n"
     ]
    }
   ],
   "source": [
    "!pygmentize model/predictor.py"
   ]
  },
  {
   "cell_type": "code",
   "execution_count": 5,
   "metadata": {},
   "outputs": [],
   "source": [
    "# Create a predictor instance using our trained model.\n",
    "predictor = StockClassifierPredictor(model,device)"
   ]
  },
  {
   "cell_type": "code",
   "execution_count": 6,
   "metadata": {},
   "outputs": [
    {
     "name": "stdout",
     "output_type": "stream",
     "text": [
      "AAPL:  1\n",
      "AMZN:  1\n",
      "BIIB:  0\n",
      "KSS:   0\n",
      "MSFT:  1\n",
      "NLOK:  <Insufficient data or invalid ticker>\n",
      "NFLX:  1\n",
      "T:     0\n",
      "TSLA:  0\n",
      "V:     1\n",
      "XYZ:   <Insufficient data or invalid ticker>\n"
     ]
    }
   ],
   "source": [
    "# Let's get some predictions for next quarter ('XYZ' is a non-existent ticker, \n",
    "# and 'NLOK' is too new a company with insufficient data!)\n",
    "for stock_ticker in ['AAPL','AMZN','BIIB','KSS','MSFT','NLOK','NFLX','T','TSLA','V','XYZ']:\n",
    "    try:\n",
    "        y = predictor.predict(stock_ticker)\n",
    "        print(f'{stock_ticker+\":\": <6} {y}')\n",
    "    except:\n",
    "        print(f'{stock_ticker+\":\": <6} <Insufficient data or invalid ticker>')"
   ]
  }
 ],
 "metadata": {
  "kernelspec": {
   "display_name": "Python 3",
   "language": "python",
   "name": "python3"
  },
  "language_info": {
   "codemirror_mode": {
    "name": "ipython",
    "version": 3
   },
   "file_extension": ".py",
   "mimetype": "text/x-python",
   "name": "python",
   "nbconvert_exporter": "python",
   "pygments_lexer": "ipython3",
   "version": "3.7.4"
  }
 },
 "nbformat": 4,
 "nbformat_minor": 4
}
